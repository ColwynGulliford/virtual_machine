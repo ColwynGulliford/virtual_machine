{
 "cells": [
  {
   "cell_type": "code",
   "execution_count": 1,
   "metadata": {},
   "outputs": [],
   "source": [
    "%load_ext autoreload\n",
    "%autoreload 2\n",
    "%config InlineBackend.figure_format = 'retina'"
   ]
  },
  {
   "cell_type": "code",
   "execution_count": null,
   "metadata": {},
   "outputs": [
    {
     "name": "stdout",
     "output_type": "stream",
     "text": [
      "Initializing sim...\n",
      "running empty model\n",
      "...done.\n"
     ]
    }
   ],
   "source": [
    "# Virtual Laser\n",
    "from virtual_machine.epics_ca import CASyncedSimServer, Model\n",
    "\n",
    "import sys, os\n",
    "root = os.path.join(os.getcwd(), '../')\n",
    "sys.path.append(root)\n",
    "\n",
    "laser_pv_file = os.path.join(root,'examples/vlaser/laser_pvs.yaml')\n",
    "\n",
    "vlaser = CASyncedSimServer(laser_pv_file)\n",
    "vlaser.start_server()\n",
    "\n",
    "\n",
    "\n",
    "\n"
   ]
  },
  {
   "cell_type": "code",
   "execution_count": null,
   "metadata": {},
   "outputs": [],
   "source": []
  }
 ],
 "metadata": {
  "kernelspec": {
   "display_name": "Python 3",
   "language": "python",
   "name": "python3"
  },
  "language_info": {
   "codemirror_mode": {
    "name": "ipython",
    "version": 3
   },
   "file_extension": ".py",
   "mimetype": "text/x-python",
   "name": "python",
   "nbconvert_exporter": "python",
   "pygments_lexer": "ipython3",
   "version": "3.7.6"
  }
 },
 "nbformat": 4,
 "nbformat_minor": 4
}
