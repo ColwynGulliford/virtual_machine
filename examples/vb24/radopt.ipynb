{
 "cells": [
  {
   "cell_type": "code",
   "execution_count": 1,
   "metadata": {},
   "outputs": [],
   "source": [
    "# Useful for debugging\n",
    "%load_ext autoreload\n",
    "%autoreload 2\n",
    "\n",
    "import yaml"
   ]
  },
  {
   "cell_type": "code",
   "execution_count": 2,
   "metadata": {},
   "outputs": [],
   "source": [
    "from xopt import Xopt"
   ]
  },
  {
   "cell_type": "code",
   "execution_count": 3,
   "metadata": {},
   "outputs": [],
   "source": [
    "YAML=\"\"\"\n",
    "xopt: {output_path: null, verbose: true,\n",
    "  algorithm: cnsga}\n",
    "  \n",
    "algorithm:\n",
    "  name: cnsga\n",
    "  options: {max_generations: 16, population_size: 24, crossover_probability: 0.9, mutation_probability: 1.0,\n",
    "  selection: auto, verbose: true, population: null}\n",
    "\n",
    "simulation:\n",
    "  name: epics_ca\n",
    "  evaluate: virtual_machine.evaluate.evaluate_epics_ca\n",
    "  options:\n",
    "    pv_file: vb24@test.sim.pvs.yaml\n",
    "    pause: 1.5\n",
    "  \n",
    "\n",
    "# Note that you can call another file in the top level group:\n",
    "vocs:\n",
    "\n",
    "  name: cu-dcgun\n",
    "  description: Test-case\n",
    "  simulation: epics_ca\n",
    "\n",
    "  variables: \n",
    "    vb24@test:laser:sigma_xy:  [1.0, 10]\n",
    "    vb24@test:laser:alpha_xy:  [0.1, 1.0]\n",
    "    vb24@test:sol1:current:    [0.0, 5.0]\n",
    "    vb24@test:sol2:current:    [0.0, 5.0]\n",
    "\n",
    "  objectives:\n",
    "    vb24@test:scr1:sigma_x:   MAXIMIZE\n",
    "    vb24@test:beam:radiation: MINIMIZE\n",
    "    \n",
    "  constants:\n",
    "    vb24@test:gun:voltage: 300\n",
    "    \n",
    "  constraints:\n",
    "    vb24@test:beam:radiation: [GREATER_THAN, 0]\n",
    "\n",
    "\"\"\"\n",
    "config = yaml.safe_load(YAML)"
   ]
  },
  {
   "cell_type": "markdown",
   "metadata": {},
   "source": [
    "# Make Xopt object and run:"
   ]
  },
  {
   "cell_type": "code",
   "execution_count": 30,
   "metadata": {},
   "outputs": [
    {
     "name": "stdout",
     "output_type": "stream",
     "text": [
      "Loading config as dict.\n",
      "Warning: No path set for key xopt : output_path\n",
      "Warning: No path set for key simulation : options : archive_path\n"
     ]
    }
   ],
   "source": [
    "X = Xopt(config=config)"
   ]
  },
  {
   "cell_type": "code",
   "execution_count": 31,
   "metadata": {},
   "outputs": [
    {
     "name": "stdout",
     "output_type": "stream",
     "text": [
      "False\n"
     ]
    }
   ],
   "source": [
    "x=X.random_evaluate()\n",
    "print(x['error'])"
   ]
  },
  {
   "cell_type": "code",
   "execution_count": 32,
   "metadata": {},
   "outputs": [
    {
     "name": "stdout",
     "output_type": "stream",
     "text": [
      "\n",
      "\n",
      "\n",
      " ▄████▄   ███▄    █   ██████   ▄████  ▄▄▄      \n",
      "▒██▀ ▀█   ██ ▀█   █ ▒██    ▒  ██▒ ▀█▒▒████▄    \n",
      "▒▓█    ▄ ▓██  ▀█ ██▒░ ▓██▄   ▒██░▄▄▄░▒██  ▀█▄  \n",
      "▒▓▓▄ ▄██▒▓██▒  ▐▌██▒  ▒   ██▒░▓█  ██▓░██▄▄▄▄██ \n",
      "▒ ▓███▀ ░▒██░   ▓██░▒██████▒▒░▒▓███▀▒ ▓█   ▓██▒\n",
      "░ ░▒ ▒  ░░ ▒░   ▒ ▒ ▒ ▒▓▒ ▒ ░ ░▒   ▒  ▒▒   ▓▒█░\n",
      "  ░  ▒   ░ ░░   ░ ▒░░ ░▒  ░ ░  ░   ░   ▒   ▒▒ ░\n",
      "░           ░   ░ ░ ░  ░  ░  ░ ░   ░   ░   ▒   \n",
      "░ ░               ░       ░        ░       ░  ░\n",
      "░                                              \n",
      "\n",
      "\n",
      "Continous Non-dominated Sorting Genetic Algorithm\n",
      "\n",
      "\n",
      "No executor given. Running in serial mode.\n",
      "Creating toolbox from vocs.\n",
      "Warning: Redefining creator.MyFitness\n",
      "Warning in cnsga_toolbox: Redefining creator.Individual\n",
      "Created toolbox with 4 variables, 1 constraints, and 2 objectives.\n",
      "    Using selection algorithm: nsga2\n",
      "vocs:\n",
      "{'constants': {'vb24@test:gun:voltage': 300},\n",
      " 'constraints': {'vb24@test:beam:radiation': ['GREATER_THAN', 0]},\n",
      " 'description': 'Test-case',\n",
      " 'linked_variables': None,\n",
      " 'name': 'cu-dcgun',\n",
      " 'objectives': {'vb24@test:beam:radiation': 'MINIMIZE',\n",
      "                'vb24@test:scr1:sigma_x': 'MAXIMIZE'},\n",
      " 'simulation': 'epics_ca',\n",
      " 'templates': None,\n",
      " 'variables': {'vb24@test:laser:alpha_xy': [0.1, 1.0],\n",
      "               'vb24@test:laser:sigma_xy': [1.0, 10],\n",
      "               'vb24@test:sol1:current': [0.0, 5.0],\n",
      "               'vb24@test:sol2:current': [0.0, 5.0]}}\n",
      "Initializing with a new population, size 24\n",
      "Maximum generations: 16\n",
      "____________________________________________________\n",
      "24 fitness calculations for initial generation\n",
      "........................done.\n",
      "Submitting first batch of children\n",
      ".........................done.\n",
      "__________________________________________________________\n",
      "Generation 0 completed in 0.61878 minutes\n",
      "........................done.\n",
      "__________________________________________________________\n",
      "Generation 1 completed in 0.61879 minutes\n",
      "........................done.\n",
      "__________________________________________________________\n",
      "Generation 2 completed in 0.61869 minutes\n",
      "........................done.\n",
      "__________________________________________________________\n",
      "Generation 3 completed in 0.61940 minutes\n",
      "........................done.\n",
      "__________________________________________________________\n",
      "Generation 4 completed in 0.61879 minutes\n",
      "........................done.\n",
      "__________________________________________________________\n",
      "Generation 5 completed in 0.61909 minutes\n",
      "........................done.\n",
      "__________________________________________________________\n",
      "Generation 6 completed in 0.62059 minutes\n",
      "........................done.\n",
      "__________________________________________________________\n",
      "Generation 7 completed in 0.62072 minutes\n",
      "........................done.\n",
      "__________________________________________________________\n",
      "Generation 8 completed in 0.61961 minutes\n",
      "........................done.\n",
      "__________________________________________________________\n",
      "Generation 9 completed in 0.62159 minutes\n",
      "........................done.\n",
      "__________________________________________________________\n",
      "Generation 10 completed in 0.62445 minutes\n",
      "........................done.\n",
      "__________________________________________________________\n",
      "Generation 11 completed in 0.62020 minutes\n",
      "........................done.\n",
      "__________________________________________________________\n",
      "Generation 12 completed in 0.62199 minutes\n",
      "........................done.\n",
      "__________________________________________________________\n",
      "Generation 13 completed in 0.61974 minutes\n",
      "........................done.\n",
      "__________________________________________________________\n",
      "Generation 14 completed in 0.61989 minutes\n",
      "........................done.\n",
      "__________________________________________________________\n",
      "Generation 15 completed in 0.62016 minutes\n",
      "......................."
     ]
    }
   ],
   "source": [
    "X.run_cnsga(executor=None)"
   ]
  },
  {
   "cell_type": "code",
   "execution_count": 23,
   "metadata": {},
   "outputs": [],
   "source": [
    "radiation = [ out['vb24@test:beam:radiation'] for out in X.population['outputs'] ]\n",
    "dsigma_xy = [ out['vb24@test:scr1:sigma_x']   for out in X.population['outputs'] ]"
   ]
  },
  {
   "cell_type": "code",
   "execution_count": 29,
   "metadata": {},
   "outputs": [
    {
     "data": {
      "text/plain": [
       "Text(0, 0.5, 'spot size at dump (mm)')"
      ]
     },
     "execution_count": 29,
     "metadata": {},
     "output_type": "execute_result"
    },
    {
     "data": {
      "image/png": "[encoded data removed]",
      "text/plain": [
       "<Figure size 432x288 with 1 Axes>"
      ]
     },
     "metadata": {
      "needs_background": "light"
     },
     "output_type": "display_data"
    }
   ],
   "source": [
    "from matplotlib import pyplot as plt\n",
    "plt.plot(radiation, dsigma_xy, '*');\n",
    "plt.xlabel('radiation (arb.)')\n",
    "plt.ylabel('spot size at dump (mm)')"
   ]
  },
  {
   "cell_type": "code",
   "execution_count": null,
   "metadata": {},
   "outputs": [],
   "source": []
  }
 ],
 "metadata": {
  "kernelspec": {
   "display_name": "Python 3",
   "language": "python",
   "name": "python3"
  },
  "language_info": {
   "codemirror_mode": {
    "name": "ipython",
    "version": 3
   },
   "file_extension": ".py",
   "mimetype": "text/x-python",
   "name": "python",
   "nbconvert_exporter": "python",
   "pygments_lexer": "ipython3",
   "version": "3.7.6"
  }
 },
 "nbformat": 4,
 "nbformat_minor": 4
}
